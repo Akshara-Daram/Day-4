{
  "nbformat": 4,
  "nbformat_minor": 0,
  "metadata": {
    "colab": {
      "provenance": []
    },
    "kernelspec": {
      "name": "python3",
      "display_name": "Python 3"
    },
    "language_info": {
      "name": "python"
    }
  },
  "cells": [
    {
      "cell_type": "code",
      "execution_count": null,
      "metadata": {
        "colab": {
          "base_uri": "https://localhost:8080/"
        },
        "id": "xljq-BwYJPr8",
        "outputId": "bdb20b50-8478-46c0-97c0-ef0cd3e9f824"
      },
      "outputs": [
        {
          "output_type": "stream",
          "name": "stdout",
          "text": [
            "Available columns:\n",
            "0 - Date\n",
            "1 - Product\n",
            "2 - Amount\n"
          ]
        }
      ],
      "source": [
        "import pandas as pd\n",
        "def csvfile(filepath):\n",
        "    df = pd.read_csv(filepath)\n",
        "\n",
        "    print(\"Available columns:\")\n",
        "    for column in df.columns:\n",
        "        print(f\"{df.columns.get_loc(column)} - {column}\")\n",
        "\n",
        "    column_choice = int(input(\"Choose the column number for analysis: \"))\n",
        "\n",
        "    print(\"Choose an action:\")\n",
        "    print(\"1 - Finding the Average\")\n",
        "    print(\"2 - Finding the Maximum\")\n",
        "    print(\"3 - Finding the Minimum\")\n",
        "    action = int(input(\"Enter your choice of action: \"))\n",
        "\n",
        "    if action == 1:\n",
        "        average = df.iloc[:, column_choice].mean()\n",
        "        print(f\"Average {df.columns[column_choice]}: {average}\")\n",
        "    elif action == 2:\n",
        "        maximum = df.iloc[:, column_choice].max()\n",
        "        print(f\"Maximum {df.columns[column_choice]}: {maximum}\")\n",
        "    elif action == 3:\n",
        "        minimum = df.iloc[:, column_choice].min()\n",
        "        print(f\"Minimum {df.columns[column_choice]}: {minimum}\")\n",
        "    else:\n",
        "        print(\"Invalid action choice.\")\n",
        "\n",
        "if __name__ == \"__main__\":\n",
        "    filepath = r\"/content/day4_sales.csv\"\n",
        "    csvfile(filepath)\n"
      ]
    }
  ]
}